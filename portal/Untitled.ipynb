{
 "cells": [
  {
   "cell_type": "code",
   "execution_count": null,
   "id": "dc7f5b3e",
   "metadata": {},
   "outputs": [],
   "source": [
    "import urllib \n",
    "\n",
    "params = 'DRIVER={ODBC Driver 13 for for SQLServer};' \\\n",
    "         'SERVER=localhost;' \\\n",
    "         'PORT=1433;' \\\n",
    "         'DATABASE=DbAsftPortal;' \\\n",
    "         'UID=sa;' \\\n",
    "         'PWD=aSj#14776$10036%mM&;'\n",
    "\n",
    "params = urllib.parse.quote_plus(params)\n",
    "\n",
    "from sqlalchemy import create_engine\n",
    "db = create_engine('mssql+pyodbc:///?odbc_connect=%s' % params)\n",
    "\n",
    "import pandas as pd\n",
    "\n",
    "sql = '''\n",
    "SELECT TABLE_NAME \n",
    "FROM INFORMATION_SCHEMA.TABLES\n",
    "WHERE TABLE_TYPE = 'BASE TABLE' AND TABLE_CATALOG='DbAsftPortal'\n",
    "'''\n",
    "\n",
    "pd.read_sql_query(sql, db)\n"
   ]
  }
 ],
 "metadata": {
  "kernelspec": {
   "display_name": "Django Shell-Plus",
   "language": "python",
   "name": "django_extensions"
  },
  "language_info": {
   "codemirror_mode": {
    "name": "ipython",
    "version": 3
   },
   "file_extension": ".py",
   "mimetype": "text/x-python",
   "name": "python",
   "nbconvert_exporter": "python",
   "pygments_lexer": "ipython3",
   "version": "3.7.4"
  }
 },
 "nbformat": 4,
 "nbformat_minor": 5
}
